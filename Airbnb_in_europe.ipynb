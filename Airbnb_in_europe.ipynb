{
 "cells": [
  {
   "cell_type": "markdown",
   "metadata": {},
   "source": [
    "<h1>Exploring AirBnb in Europe</h1>\n",
    "\n",
    "\n",
    "<h3>Import Necessary Libraries and Modules</h3>\n",
    "\n",
    "This cell imports essential libraries:\n",
    "\n",
    "pandas:    For data manipulation and analysis.<br>\n",
    "matplotlib.pyplot:     For plotting and visualization.<br>\n",
    "datetime and timedelta:    To handle date and time calculations.<br>\n",
    "os:            To interact with the operating system, allowing file path management <br>\n",
    "ipywidgets: Provides tools to create interactive widgets in the Jupyter notebook. In this code, we use it to create a dropdown menu that lets users select a city, dynamically updating the visualizations based on the chosen city."
   ]
  },
  {
   "cell_type": "code",
   "execution_count": null,
   "metadata": {},
   "outputs": [],
   "source": [
    "import pandas as pd\n",
    "import matplotlib.pyplot as plt\n",
    "from datetime import datetime, timedelta\n",
    "import os\n",
    "import ipywidgets as widgets\n",
    "from ipywidgets import interact"
   ]
  },
  {
   "cell_type": "markdown",
   "metadata": {},
   "source": [
    "<h3>Define Cities and Setup Directory</h3>"
   ]
  },
  {
   "cell_type": "markdown",
   "metadata": {},
   "source": [
    "current_directory stores the directory path to access files. <br>\n",
    "cities defines a list of European cities to be analyzed. <br>\n",
    "Each dictionary (listings, reviews) is used to store data for each city, helping us access and process data city by city."
   ]
  },
  {
   "cell_type": "code",
   "execution_count": null,
   "metadata": {},
   "outputs": [],
   "source": [
    "# Set the current working directory\n",
    "current_directory = os.getcwd()\n",
    "\n",
    "# List of cities (note that all city names here start with uppercase letters to match file names)\n",
    "cities = [\"Amsterdam\", \"Athens\", \"Barcelona\", \"Berlin\", \"Copenhagen\", \"Dublin\", \n",
    "          \"Lisbon\", \"London\", \"Madrid\", \"Paris\", \"Rome\", \"Venice\", \"Vienna\"]\n",
    "\n",
    "# Create dictionaries to store the dataframes for each city\n",
    "listings = {}\n",
    "reviews = {}\n",
    "\n",
    "# Loop through each city and load the respective data files\n",
    "for city in cities:\n",
    "    listings_path = os.path.join(current_directory, f\"{city}_listings.csv\")\n",
    "    reviews_path = os.path.join(current_directory, f\"{city}_reviews.csv\")\n",
    "    \n",
    "    listings[city] = pd.read_csv(listings_path)\n",
    "    reviews[city] = pd.read_csv(reviews_path)\n",
    "\n",
    "print(listings['Athens'].head())  # Prints the first few rows of Athens listings"
   ]
  },
  {
   "cell_type": "markdown",
   "metadata": {},
   "source": [
    "<h3>Filter Data to the Last 12 Months</h3>"
   ]
  },
  {
   "cell_type": "code",
   "execution_count": null,
   "metadata": {},
   "outputs": [],
   "source": [
    "cutoff_date = datetime.now() - timedelta(days=365)\n",
    "\n",
    "def filter_last_12_months_inplace(df, date_column):\n",
    "    df[date_column] = pd.to_datetime(df[date_column], errors='coerce')\n",
    "    df.drop(df[df[date_column] < cutoff_date].index, inplace=True)\n",
    "\n",
    "for city in cities:\n",
    "    filter_last_12_months_inplace(reviews[city], 'date')\n"
   ]
  },
  {
   "cell_type": "markdown",
   "metadata": {},
   "source": [
    "<h3>Determining population</h3>"
   ]
  },
  {
   "cell_type": "markdown",
   "metadata": {},
   "source": [
    "In order to determine the population of these European cities I used the following data found on Statista https://www.statista.com/statistics/1101883/largest-european-cities/\n",
    "\n",
    "Below we load and handle the data."
   ]
  },
  {
   "cell_type": "code",
   "execution_count": null,
   "metadata": {},
   "outputs": [],
   "source": [
    "population_path = os.path.join(current_directory, \"largest-cities-in-europe-in-2023.xlsx\")\n",
    "population_df = pd.read_excel(population_path, sheet_name=1, skiprows=4)\n",
    "population_df = population_df.drop(population_df.columns[0], axis=1)\n",
    "population_df.columns = ['City', 'Population']\n",
    "population_df['City'] = population_df['City'].apply(lambda x: x.split(\" (\")[0])\n",
    "city_population = dict(zip(population_df['City'], population_df['Population']))\n"
   ]
  },
  {
   "cell_type": "markdown",
   "metadata": {},
   "source": [
    "<h3> Calculate Listings Count and Density</h3>"
   ]
  },
  {
   "cell_type": "code",
   "execution_count": null,
   "metadata": {},
   "outputs": [],
   "source": [
    "listings_count = {}\n",
    "listings_density = {}\n",
    "\n",
    "for city in cities:\n",
    "    listings_count[city] = listings[city]['id'].nunique()\n",
    "    population = city_population.get(city, 0)\n",
    "    listings_density[city] = (listings_count[city] / population) * 1000 if population else None\n",
    "\n",
    "listings_df = pd.DataFrame(listings_count.items(), columns=['City', 'Number of Listings'])\n",
    "print(listings_df)"
   ]
  },
  {
   "cell_type": "markdown",
   "metadata": {},
   "source": [
    "<h3>Visualize Listings per City</h3>"
   ]
  },
  {
   "cell_type": "code",
   "execution_count": null,
   "metadata": {},
   "outputs": [],
   "source": [
    "plt.figure(figsize=(10, 6))\n",
    "plt.bar(listings_df['City'], listings_df['Number of Listings'], color='skyblue')\n",
    "plt.xlabel('City')\n",
    "plt.ylabel('Number of Listings')\n",
    "plt.title('Airbnb Listings per City')\n",
    "plt.xticks(rotation=45, ha='right')\n",
    "plt.tight_layout()\n",
    "plt.show()\n"
   ]
  },
  {
   "cell_type": "markdown",
   "metadata": {},
   "source": [
    "<h3>Visualize Listings Density</h3>"
   ]
  },
  {
   "cell_type": "code",
   "execution_count": null,
   "metadata": {},
   "outputs": [],
   "source": [
    "density_df = pd.DataFrame({\n",
    "    'City': cities,\n",
    "    'Number of Listings': [listings_count[city] for city in cities],\n",
    "    'Listings per 1,000 Inhabitants': [listings_density[city] for city in cities]\n",
    "})\n",
    "\n",
    "plt.figure(figsize=(10, 6))\n",
    "plt.bar(density_df['City'], density_df['Listings per 1,000 Inhabitants'], color='skyblue')\n",
    "plt.xlabel('City')\n",
    "plt.ylabel('Listings per 1,000 Inhabitants')\n",
    "plt.title('Airbnb Listings Density per City')\n",
    "plt.xticks(rotation=45, ha='right')\n",
    "plt.tight_layout()\n",
    "plt.show()\n"
   ]
  },
  {
   "cell_type": "markdown",
   "metadata": {},
   "source": [
    "<h3>Estimate Income and Activity Metrics</h3>"
   ]
  },
  {
   "cell_type": "code",
   "execution_count": null,
   "metadata": {},
   "outputs": [],
   "source": [
    "count = {}\n",
    "total_income = {}\n",
    "for city in cities:\n",
    "    total_reviews = listings[city]['number_of_reviews_ltm'].sum()\n",
    "    bookings = total_reviews * 0.5\n",
    "    nights_booked = bookings * 3\n",
    "    mean_price = listings[city]['price'].mean()\n",
    "    income_per_listing = mean_price * bookings\n",
    "    total_income[city] = income_per_listing\n",
    "    count[city] = listings[city].shape[0]\n",
    "\n",
    "average_income_per_listing = {city: total_income[city] / count[city] for city in cities}\n",
    "income_df = pd.DataFrame({\n",
    "    'City': cities,\n",
    "    'Average Income per Listing (USD)': [average_income_per_listing[city] for city in cities]\n",
    "})\n",
    "print(income_df)\n"
   ]
  },
  {
   "cell_type": "markdown",
   "metadata": {},
   "source": [
    "<h3>Visualisation</h3>"
   ]
  },
  {
   "cell_type": "markdown",
   "metadata": {},
   "source": [
    "An attempt to replicate the visualisaton found in Inside Airbnb, using the drop-down menu you can select the city to view its respective statistics"
   ]
  },
  {
   "cell_type": "code",
   "execution_count": null,
   "metadata": {},
   "outputs": [],
   "source": [
    "# Define the dropdown widget for selecting a city\n",
    "city_dropdown = widgets.Dropdown(\n",
    "    options=cities,\n",
    "    value=cities[0],\n",
    "    description='Select City:',\n",
    ")\n",
    "\n",
    "# Define the function to update the plots and tables based on the selected city\n",
    "def update_plots_and_table(city):\n",
    "    city_listings = listings[city]\n",
    "\n",
    "    # --- Room Type Distribution ---\n",
    "    room_type_counts = city_listings['room_type'].value_counts()\n",
    "    room_type_labels = room_type_counts.index\n",
    "    room_type_values = room_type_counts.values\n",
    "\n",
    "    # Plot Room Type Distribution\n",
    "    plt.figure(figsize=(8, 5))\n",
    "    plt.bar(room_type_labels, room_type_values, color=\"skyblue\")\n",
    "    plt.xlabel(\"Room Type\")\n",
    "    plt.ylabel(\"Number of Listings\")\n",
    "    plt.title(f\"Room Type Distribution for {city}\")\n",
    "    plt.tight_layout()\n",
    "    plt.show()\n",
    "\n",
    "    # --- Listings per Host ---\n",
    "    # Calculate the number of listings per host\n",
    "    listings_per_host = city_listings['host_id'].value_counts()\n",
    "\n",
    "    # Categorize listings per host into 1, 2, ..., 9, and 10+\n",
    "    listings_per_host = listings_per_host.apply(lambda x: x if x < 10 else 10)\n",
    "\n",
    "    # Count the occurrences of each category\n",
    "    listings_distribution = listings_per_host.value_counts().sort_index()\n",
    "\n",
    "    # Define the custom x-axis categories as strings\n",
    "    categories = [str(i) for i in range(1, 10)] + [\"10+\"]\n",
    "    distribution_values = [listings_distribution.get(i, 0) for i in range(1, 10)] + [listings_distribution.get(10, 0)]\n",
    "\n",
    "    # Plot Listings per Host\n",
    "    plt.figure(figsize=(10, 5))\n",
    "    plt.bar(categories, distribution_values, color=\"skyblue\")\n",
    "    plt.xlabel(\"Listings per Host\")\n",
    "    plt.ylabel(\"Number of Hosts\")\n",
    "    plt.title(f\"Listings per Host Distribution for {city}\")\n",
    "    plt.tight_layout()\n",
    "    plt.show()\n",
    "\n",
    "    # --- Top 50 Hosts Table ---\n",
    "    # Calculate the number of listings per host for the current city\n",
    "    host_listings_count = city_listings['host_name'].value_counts()\n",
    "\n",
    "    # Get the top 50 hosts with the most listings for the current city\n",
    "    top_50_hosts = host_listings_count.head(50).index\n",
    "\n",
    "    # Prepare a list to hold the data for each of the top 50 hosts\n",
    "    host_data = []\n",
    "\n",
    "    for host in top_50_hosts:\n",
    "        host_listings = city_listings[city_listings['host_name'] == host]\n",
    "\n",
    "        # Count the number of each room type for the host\n",
    "        room_type_counts = host_listings['room_type'].value_counts()\n",
    "\n",
    "        # Reindex the room type counts to ensure all room types are present\n",
    "        room_type_counts = room_type_counts.reindex(['Entire home/apt', 'Private room', 'Shared room', 'Hotel room'], fill_value=0)\n",
    "\n",
    "        # Get the total number of listings for the host\n",
    "        total_listings = host_listings.shape[0]\n",
    "\n",
    "        # Append the data to the list\n",
    "        host_data.append([host] + room_type_counts.tolist() + [total_listings])\n",
    "\n",
    "    # Create the DataFrame for the current city with the desired structure\n",
    "    columns = ['Host Name', 'Entire home/apt', 'Private room', 'Shared room', 'Hotel room', 'Total Listings']\n",
    "    host_df = pd.DataFrame(host_data, columns=columns)\n",
    "\n",
    "    # Display the table for the current city\n",
    "    display(host_df.style.set_table_styles([\n",
    "        {'selector': 'thead th', 'props': [('background-color', 'lightblue'), ('font-weight', 'bold')]},\n",
    "        {'selector': 'tbody td', 'props': [('text-align', 'center')]},\n",
    "    ]))\n",
    "    print(\"\\n\" + \"=\"*50)  # Separator between city tables\n",
    "\n",
    "    # --- Activity Graph ---\n",
    "    # Define occupancy bins\n",
    "    bins = [0, 1, 30, 60, 90, 100]\n",
    "    labels = [\"0%\", \"1-30%\", \"31-60%\", \"61-90%\", \"91-100%\"]\n",
    "\n",
    "    # Calculate bookings, nights booked, and occupancy for each listing\n",
    "    city_listings['bookings'] = city_listings['number_of_reviews_ltm'] * 0.5\n",
    "    city_listings['nights_booked'] = city_listings['bookings'] * 3\n",
    "\n",
    "    # Occupancy as percentage of total nights in a year\n",
    "    city_listings['occupancy_percentage'] = (city_listings['nights_booked'] / 365) * 100\n",
    "\n",
    "    # Bin the occupancy percentages into specified ranges\n",
    "    city_listings['occupancy_range'] = pd.cut(city_listings['occupancy_percentage'], bins=bins, labels=labels, right=False)\n",
    "    occupancy_distribution = city_listings['occupancy_range'].value_counts().reindex(labels).fillna(0)\n",
    "\n",
    "    # Plot Activity Graph\n",
    "    plt.figure(figsize=(8, 5))\n",
    "    plt.bar(occupancy_distribution.index, occupancy_distribution.values, color=\"skyblue\")\n",
    "    plt.xlabel(\"Occupancy Range (%)\")\n",
    "    plt.ylabel(\"Number of Listings\")\n",
    "    plt.title(f\"Activity Graph for {city}\")\n",
    "    plt.tight_layout()\n",
    "    plt.show()\n",
    "\n",
    "# Link the dropdown menu to the update function\n",
    "interact(update_plots_and_table, city=city_dropdown)\n"
   ]
  }
 ],
 "metadata": {
  "kernelspec": {
   "display_name": "Python 3",
   "language": "python",
   "name": "python3"
  },
  "language_info": {
   "codemirror_mode": {
    "name": "ipython",
    "version": 3
   },
   "file_extension": ".py",
   "mimetype": "text/x-python",
   "name": "python",
   "nbconvert_exporter": "python",
   "pygments_lexer": "ipython3",
   "version": "3.12.3"
  }
 },
 "nbformat": 4,
 "nbformat_minor": 2
}
